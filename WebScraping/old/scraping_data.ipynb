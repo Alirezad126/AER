{
 "cells": [
  {
   "cell_type": "code",
   "id": "initial_id",
   "metadata": {
    "collapsed": true,
    "ExecuteTime": {
     "end_time": "2025-09-16T21:26:18.786608Z",
     "start_time": "2025-09-16T21:26:18.151111Z"
    }
   },
   "source": "",
   "outputs": [],
   "execution_count": 9
  },
  {
   "metadata": {},
   "cell_type": "code",
   "source": "https://www2.aer.ca/t/Production/views/PRD_0100_Well_Summary_Report/WellSummaryReport?Enter%20Well%20Identifier%20(UWI)=00%2F01-01-069-22W5%2F0&%3Aembed=y&%3AshowShareOptions=true&%3Adisplay_count=no&%3AshowVizHome=no#3",
   "id": "311abf814b6c83b2",
   "outputs": [],
   "execution_count": null
  },
  {
   "metadata": {},
   "cell_type": "code",
   "outputs": [],
   "execution_count": null,
   "source": "https://www2.aer.ca/t/Production/views/PRD_0100_Well_Summary_Report/WellSummaryReport?Enter%20Well%20Identifier%20(UWI)=00%2F01-01-051-09W4%2F0&%3Aembed=y&%3AshowShareOptions=true&%3Adisplay_count=no&%3AshowVizHome=no#3",
   "id": "21bc3883359bd93b"
  },
  {
   "metadata": {
    "ExecuteTime": {
     "end_time": "2025-09-16T21:35:47.373816Z",
     "start_time": "2025-09-16T21:35:40.494609Z"
    }
   },
   "cell_type": "code",
   "source": "!pip uninstall TableauScraper",
   "id": "25f65702c18d7f39",
   "outputs": [
    {
     "name": "stdout",
     "output_type": "stream",
     "text": [
      "Found existing installation: TableauScraper 0.1.29\r\n",
      "Uninstalling TableauScraper-0.1.29:\r\n",
      "  Would remove:\r\n",
      "    /home/alireza/anaconda3/envs/Ida/lib/python3.11/site-packages/TableauScraper-0.1.29.dist-info/*\r\n",
      "    /home/alireza/anaconda3/envs/Ida/lib/python3.11/site-packages/tableauscraper/*\r\n",
      "Proceed (Y/n)? ^C\r\n",
      "\u001B[31mERROR: Operation cancelled by user\u001B[0m\u001B[31m\r\n",
      "\u001B[0m"
     ]
    }
   ],
   "execution_count": 16
  },
  {
   "metadata": {},
   "cell_type": "code",
   "outputs": [],
   "execution_count": null,
   "source": "",
   "id": "d1dba04b41f85d86"
  },
  {
   "metadata": {},
   "cell_type": "code",
   "outputs": [],
   "execution_count": null,
   "source": "",
   "id": "20be3a1c42d2b9d0"
  }
 ],
 "metadata": {
  "kernelspec": {
   "display_name": "Python 3",
   "language": "python",
   "name": "python3"
  },
  "language_info": {
   "codemirror_mode": {
    "name": "ipython",
    "version": 2
   },
   "file_extension": ".py",
   "mimetype": "text/x-python",
   "name": "python",
   "nbconvert_exporter": "python",
   "pygments_lexer": "ipython2",
   "version": "2.7.6"
  }
 },
 "nbformat": 4,
 "nbformat_minor": 5
}
